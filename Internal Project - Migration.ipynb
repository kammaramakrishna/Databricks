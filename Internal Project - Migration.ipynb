{
 "cells": [
  {
   "cell_type": "code",
   "execution_count": 0,
   "metadata": {
    "application/vnd.databricks.v1+cell": {
     "cellMetadata": {},
     "inputWidgets": {},
     "nuid": "f101bf3e-3e06-4c1a-bcaf-3cf651595c47",
     "showTitle": false,
     "title": ""
    }
   },
   "outputs": [],
   "source": [
    "The Client is mainly stored in Postgres SQL (80% of data)\n",
    "Remaining 20% of data in Fiveran and segment\n",
    "The data they will provide in S3 storage location.\n",
    "From S3 we can access the data.\n",
    "\n",
    "Task:\n",
    "Migrate the data from S3 to Databricks then Snowflake (final gold layer)\n",
    "Ingress: S3 to Databricks\n",
    "Egress: Databricks to Snowflake Data warehouse\n",
    "\n",
    "Innovations: \n",
    "Majority SQL files organized by using DBT\n",
    "It is like Parent -> Child -> Sub Child\n",
    "\n",
    "If the files doesn't have Json parser(withjson in Databricks) it executes perfectly\n",
    "But if it has JSON parser it created the error because it is depend on Parent Script\n",
    "To Resolve this first solve from the Parent Script\n",
    "\n",
    "1. Written a Framework such a way that it will list the all the dependencies and weight\n",
    "   sort dependency by desc order. Solve from the top, it will resolve majority of errors\n",
    " \n",
    "\n",
    "Data Quality Checks:\n",
    "During validations from source to target the count is mismatching\n",
    "\n",
    "1. Written a Framework to get the count after every cte from both source and destination. \n",
    "   If the count difference is huge then start resolving it from there\n",
    "   Issue: Chatgpt has not provided the brackets correctly which causes the issues.\n",
    "\n",
    "\n",
    "Challenges faced:\n",
    "Snowflake SQL is very good and lot of functionalities.\n",
    "Databricks has limited SQL when compared to Snowflake\n",
    "\n",
    "1. like will compare either upper or lower\n",
    "   but Databricks will compare both Upper and Lower\n",
    "2. In snowflake it takes 15mins to execute the code\n",
    "   but in Databricks it takes 3hrs to execute (because SQL code is not optimized way written)\n",
    "   Multiple Ctes with more no of joins. which causes cte execute very slow\n",
    "\n",
    "\n",
    "Cost Issues:\n",
    "\n",
    "1. Client team is not satisfied with the migrating to Databricks because cost is huge\n",
    "   Reasons given by Databricks team:\n",
    "     SQL code is not written in Optimized way. That makes Databricks to run slowly\n",
    "\n",
    "   Solution:\n",
    "     Optimize the SQL Code. Run in Databricks, for surely it will execute fastly"
   ]
  }
 ],
 "metadata": {
  "application/vnd.databricks.v1+notebook": {
   "dashboards": [],
   "environmentMetadata": null,
   "language": "python",
   "notebookMetadata": {
    "pythonIndentUnit": 4
   },
   "notebookName": "Internal Project - Migration",
   "widgets": {}
  }
 },
 "nbformat": 4,
 "nbformat_minor": 0
}
