{
 "cells": [
  {
   "cell_type": "markdown",
   "metadata": {
    "application/vnd.databricks.v1+cell": {
     "cellMetadata": {},
     "inputWidgets": {},
     "nuid": "f5e2ba38-a386-4ec6-b4ee-b7a8c01d153c",
     "showTitle": false,
     "title": ""
    }
   },
   "source": [
    "Silver Table Generation"
   ]
  },
  {
   "cell_type": "code",
   "execution_count": 0,
   "metadata": {
    "application/vnd.databricks.v1+cell": {
     "cellMetadata": {
      "byteLimit": 2048000,
      "rowLimit": 10000
     },
     "inputWidgets": {},
     "nuid": "99f1576e-d910-4e3a-88f7-2905c3ba31ea",
     "showTitle": false,
     "title": ""
    }
   },
   "outputs": [],
   "source": [
    "products = [(\"USA\", \"ProductA\", 1000, 200), (\"India\", \"ProductB\", 500, 50), (\"UK\", \"ProductC\", 700, 100), (\"Canada\", \"ProductD\", 200, 20)]\n",
    "\n",
    "columns = [\"Country\", \"Product\", \"Stock\", \"Sales\"]\n",
    "\n",
    "spark.createDataFrame(data = products, schema = columns).write.format(\"delta\").mode(\"overwrite\").saveAsTable(\"silver_Table\")"
   ]
  },
  {
   "cell_type": "code",
   "execution_count": 0,
   "metadata": {
    "application/vnd.databricks.v1+cell": {
     "cellMetadata": {
      "byteLimit": 2048000,
      "implicitDf": true,
      "rowLimit": 10000
     },
     "inputWidgets": {},
     "nuid": "9d243423-2d75-42cc-b7c4-c9abace9c0ef",
     "showTitle": false,
     "title": ""
    }
   },
   "outputs": [
    {
     "output_type": "display_data",
     "data": {
      "text/html": [
       "<style scoped>\n",
       "  .table-result-container {\n",
       "    max-height: 300px;\n",
       "    overflow: auto;\n",
       "  }\n",
       "  table, th, td {\n",
       "    border: 1px solid black;\n",
       "    border-collapse: collapse;\n",
       "  }\n",
       "  th, td {\n",
       "    padding: 5px;\n",
       "  }\n",
       "  th {\n",
       "    text-align: left;\n",
       "  }\n",
       "</style><div class='table-result-container'><table class='table-result'><thead style='background-color: white'><tr><th>Country</th><th>Product</th><th>Stock</th><th>Sales</th></tr></thead><tbody><tr><td>Canada</td><td>ProductD</td><td>200</td><td>20</td></tr><tr><td>India</td><td>ProductB</td><td>500</td><td>50</td></tr><tr><td>USA</td><td>ProductA</td><td>1000</td><td>200</td></tr><tr><td>UK</td><td>ProductC</td><td>700</td><td>100</td></tr></tbody></table></div>"
      ]
     },
     "metadata": {
      "application/vnd.databricks.v1+output": {
       "addedWidgets": {},
       "aggData": [],
       "aggError": "",
       "aggOverflow": false,
       "aggSchema": [],
       "aggSeriesLimitReached": false,
       "aggType": "",
       "arguments": {},
       "columnCustomDisplayInfos": {},
       "data": [
        [
         "Canada",
         "ProductD",
         200,
         20
        ],
        [
         "India",
         "ProductB",
         500,
         50
        ],
        [
         "USA",
         "ProductA",
         1000,
         200
        ],
        [
         "UK",
         "ProductC",
         700,
         100
        ]
       ],
       "datasetInfos": [],
       "dbfsResultPath": null,
       "isJsonSchema": true,
       "metadata": {
        "dataframeName": "_sqldf",
        "executionCount": 2
       },
       "overflow": false,
       "plotOptions": {
        "customPlotOptions": {},
        "displayType": "table",
        "pivotAggregation": null,
        "pivotColumns": null,
        "xColumns": null,
        "yColumns": null
       },
       "removedWidgets": [],
       "schema": [
        {
         "metadata": "{}",
         "name": "Country",
         "type": "\"string\""
        },
        {
         "metadata": "{}",
         "name": "Product",
         "type": "\"string\""
        },
        {
         "metadata": "{}",
         "name": "Stock",
         "type": "\"long\""
        },
        {
         "metadata": "{}",
         "name": "Sales",
         "type": "\"long\""
        }
       ],
       "type": "table"
      }
     },
     "output_type": "display_data"
    }
   ],
   "source": [
    "%sql\n",
    "select * from silver_Table"
   ]
  },
  {
   "cell_type": "markdown",
   "metadata": {
    "application/vnd.databricks.v1+cell": {
     "cellMetadata": {},
     "inputWidgets": {},
     "nuid": "7bf780f2-d2c4-476e-be1e-a4f9de731cce",
     "showTitle": false,
     "title": ""
    }
   },
   "source": [
    "Gold Table Generation"
   ]
  },
  {
   "cell_type": "code",
   "execution_count": 0,
   "metadata": {
    "application/vnd.databricks.v1+cell": {
     "cellMetadata": {
      "byteLimit": 2048000,
      "rowLimit": 10000
     },
     "inputWidgets": {},
     "nuid": "a18c850a-d9bd-415f-b881-2738992bce47",
     "showTitle": false,
     "title": ""
    }
   },
   "outputs": [],
   "source": [
    "import pyspark.sql.functions as F\n",
    "(spark.read.format(\"delta\").table(\"silver_Table\")\n",
    "\t\t\t.withColumn(\"SaleRate\", F.col(\"Sales\") / F.col(\"Stock\"))\n",
    "\t\t\t.drop(\"Stock\").drop(\"Sales\")\n",
    "\t\t\t.write.format(\"delta\").mode(\"overwrite\").saveAsTable(\"gold_Table\"))"
   ]
  },
  {
   "cell_type": "code",
   "execution_count": 0,
   "metadata": {
    "application/vnd.databricks.v1+cell": {
     "cellMetadata": {
      "byteLimit": 2048000,
      "implicitDf": true,
      "rowLimit": 10000
     },
     "inputWidgets": {},
     "nuid": "ee64eff1-da29-42de-83d7-8d7f5ed64378",
     "showTitle": false,
     "title": ""
    }
   },
   "outputs": [
    {
     "output_type": "display_data",
     "data": {
      "text/html": [
       "<style scoped>\n",
       "  .table-result-container {\n",
       "    max-height: 300px;\n",
       "    overflow: auto;\n",
       "  }\n",
       "  table, th, td {\n",
       "    border: 1px solid black;\n",
       "    border-collapse: collapse;\n",
       "  }\n",
       "  th, td {\n",
       "    padding: 5px;\n",
       "  }\n",
       "  th {\n",
       "    text-align: left;\n",
       "  }\n",
       "</style><div class='table-result-container'><table class='table-result'><thead style='background-color: white'><tr><th>Country</th><th>Product</th><th>SaleRate</th></tr></thead><tbody><tr><td>Canada</td><td>ProductD</td><td>0.1</td></tr><tr><td>India</td><td>ProductB</td><td>0.1</td></tr><tr><td>USA</td><td>ProductA</td><td>0.2</td></tr><tr><td>UK</td><td>ProductC</td><td>0.14285714285714285</td></tr></tbody></table></div>"
      ]
     },
     "metadata": {
      "application/vnd.databricks.v1+output": {
       "addedWidgets": {},
       "aggData": [],
       "aggError": "",
       "aggOverflow": false,
       "aggSchema": [],
       "aggSeriesLimitReached": false,
       "aggType": "",
       "arguments": {},
       "columnCustomDisplayInfos": {},
       "data": [
        [
         "Canada",
         "ProductD",
         0.1
        ],
        [
         "India",
         "ProductB",
         0.1
        ],
        [
         "USA",
         "ProductA",
         0.2
        ],
        [
         "UK",
         "ProductC",
         0.14285714285714285
        ]
       ],
       "datasetInfos": [],
       "dbfsResultPath": null,
       "isJsonSchema": true,
       "metadata": {
        "dataframeName": "_sqldf",
        "executionCount": 4
       },
       "overflow": false,
       "plotOptions": {
        "customPlotOptions": {},
        "displayType": "table",
        "pivotAggregation": null,
        "pivotColumns": null,
        "xColumns": null,
        "yColumns": null
       },
       "removedWidgets": [],
       "schema": [
        {
         "metadata": "{}",
         "name": "Country",
         "type": "\"string\""
        },
        {
         "metadata": "{}",
         "name": "Product",
         "type": "\"string\""
        },
        {
         "metadata": "{}",
         "name": "SaleRate",
         "type": "\"double\""
        }
       ],
       "type": "table"
      }
     },
     "output_type": "display_data"
    }
   ],
   "source": [
    "%sql\n",
    "select * from gold_Table"
   ]
  },
  {
   "cell_type": "code",
   "execution_count": 0,
   "metadata": {
    "application/vnd.databricks.v1+cell": {
     "cellMetadata": {
      "byteLimit": 2048000,
      "implicitDf": true,
      "rowLimit": 10000
     },
     "inputWidgets": {},
     "nuid": "640a8c3f-0f0e-46da-a887-763e3a7cd027",
     "showTitle": false,
     "title": ""
    }
   },
   "outputs": [
    {
     "output_type": "display_data",
     "data": {
      "text/html": [
       "<style scoped>\n",
       "  .table-result-container {\n",
       "    max-height: 300px;\n",
       "    overflow: auto;\n",
       "  }\n",
       "  table, th, td {\n",
       "    border: 1px solid black;\n",
       "    border-collapse: collapse;\n",
       "  }\n",
       "  th, td {\n",
       "    padding: 5px;\n",
       "  }\n",
       "  th {\n",
       "    text-align: left;\n",
       "  }\n",
       "</style><div class='table-result-container'><table class='table-result'><thead style='background-color: white'><tr></tr></thead><tbody></tbody></table></div>"
      ]
     },
     "metadata": {
      "application/vnd.databricks.v1+output": {
       "addedWidgets": {},
       "aggData": [],
       "aggError": "",
       "aggOverflow": false,
       "aggSchema": [],
       "aggSeriesLimitReached": false,
       "aggType": "",
       "arguments": {},
       "columnCustomDisplayInfos": {},
       "data": [],
       "datasetInfos": [],
       "dbfsResultPath": null,
       "isJsonSchema": true,
       "metadata": {
        "dataframeName": null
       },
       "overflow": false,
       "plotOptions": {
        "customPlotOptions": {},
        "displayType": "table",
        "pivotAggregation": null,
        "pivotColumns": null,
        "xColumns": null,
        "yColumns": null
       },
       "removedWidgets": [],
       "schema": [],
       "type": "table"
      }
     },
     "output_type": "display_data"
    }
   ],
   "source": [
    "%sql\n",
    "alter table silver_Table set tblproperties (delta.enableChangeDataFeed = true)"
   ]
  },
  {
   "cell_type": "markdown",
   "metadata": {
    "application/vnd.databricks.v1+cell": {
     "cellMetadata": {},
     "inputWidgets": {},
     "nuid": "135d6a04-bc5b-40be-8e31-d94ab6749536",
     "showTitle": false,
     "title": ""
    }
   },
   "source": [
    "Insert new records"
   ]
  },
  {
   "cell_type": "code",
   "execution_count": 0,
   "metadata": {
    "application/vnd.databricks.v1+cell": {
     "cellMetadata": {
      "byteLimit": 2048000,
      "rowLimit": 10000
     },
     "inputWidgets": {},
     "nuid": "41abf72f-cf2d-4ba7-a6f9-323aab22776b",
     "showTitle": false,
     "title": ""
    }
   },
   "outputs": [],
   "source": [
    "new_products = [(\"Australia\", \"ProductE\", 300, 30)]\n",
    "spark.createDataFrame(data = new_products, schema = columns).write.format(\"delta\").mode(\"append\").saveAsTable(\"silver_Table\")"
   ]
  },
  {
   "cell_type": "markdown",
   "metadata": {
    "application/vnd.databricks.v1+cell": {
     "cellMetadata": {},
     "inputWidgets": {},
     "nuid": "56a96b6a-b031-47d2-8b8a-9b2268314c03",
     "showTitle": false,
     "title": ""
    }
   },
   "source": [
    "Update a record in silver_Table"
   ]
  },
  {
   "cell_type": "code",
   "execution_count": 0,
   "metadata": {
    "application/vnd.databricks.v1+cell": {
     "cellMetadata": {
      "byteLimit": 2048000,
      "implicitDf": true,
      "rowLimit": 10000
     },
     "inputWidgets": {},
     "nuid": "b9df5f7e-2c3e-443f-a589-01394759c11d",
     "showTitle": false,
     "title": ""
    }
   },
   "outputs": [
    {
     "output_type": "display_data",
     "data": {
      "text/html": [
       "<style scoped>\n",
       "  .table-result-container {\n",
       "    max-height: 300px;\n",
       "    overflow: auto;\n",
       "  }\n",
       "  table, th, td {\n",
       "    border: 1px solid black;\n",
       "    border-collapse: collapse;\n",
       "  }\n",
       "  th, td {\n",
       "    padding: 5px;\n",
       "  }\n",
       "  th {\n",
       "    text-align: left;\n",
       "  }\n",
       "</style><div class='table-result-container'><table class='table-result'><thead style='background-color: white'><tr><th>num_affected_rows</th></tr></thead><tbody><tr><td>1</td></tr></tbody></table></div>"
      ]
     },
     "metadata": {
      "application/vnd.databricks.v1+output": {
       "addedWidgets": {},
       "aggData": [],
       "aggError": "",
       "aggOverflow": false,
       "aggSchema": [],
       "aggSeriesLimitReached": false,
       "aggType": "",
       "arguments": {},
       "columnCustomDisplayInfos": {},
       "data": [
        [
         1
        ]
       ],
       "datasetInfos": [],
       "dbfsResultPath": null,
       "isJsonSchema": true,
       "metadata": {
        "dataframeName": "_sqldf",
        "executionCount": 6
       },
       "overflow": false,
       "plotOptions": {
        "customPlotOptions": {},
        "displayType": "table",
        "pivotAggregation": null,
        "pivotColumns": null,
        "xColumns": null,
        "yColumns": null
       },
       "removedWidgets": [],
       "schema": [
        {
         "metadata": "{}",
         "name": "num_affected_rows",
         "type": "\"long\""
        }
       ],
       "type": "table"
      }
     },
     "output_type": "display_data"
    }
   ],
   "source": [
    "%sql\n",
    "update silver_Table set Stock = '1200' where Country = 'USA' and Product = 'ProductA'"
   ]
  },
  {
   "cell_type": "markdown",
   "metadata": {
    "application/vnd.databricks.v1+cell": {
     "cellMetadata": {},
     "inputWidgets": {},
     "nuid": "74a862f4-811a-4968-a57b-a08c0ae539cd",
     "showTitle": false,
     "title": ""
    }
   },
   "source": [
    "delete a record from Silver_Table"
   ]
  },
  {
   "cell_type": "code",
   "execution_count": 0,
   "metadata": {
    "application/vnd.databricks.v1+cell": {
     "cellMetadata": {
      "byteLimit": 2048000,
      "implicitDf": true,
      "rowLimit": 10000
     },
     "inputWidgets": {},
     "nuid": "34224f8b-940d-4535-a1f7-314feae94577",
     "showTitle": false,
     "title": ""
    }
   },
   "outputs": [
    {
     "output_type": "display_data",
     "data": {
      "text/html": [
       "<style scoped>\n",
       "  .table-result-container {\n",
       "    max-height: 300px;\n",
       "    overflow: auto;\n",
       "  }\n",
       "  table, th, td {\n",
       "    border: 1px solid black;\n",
       "    border-collapse: collapse;\n",
       "  }\n",
       "  th, td {\n",
       "    padding: 5px;\n",
       "  }\n",
       "  th {\n",
       "    text-align: left;\n",
       "  }\n",
       "</style><div class='table-result-container'><table class='table-result'><thead style='background-color: white'><tr><th>num_affected_rows</th></tr></thead><tbody><tr><td>1</td></tr></tbody></table></div>"
      ]
     },
     "metadata": {
      "application/vnd.databricks.v1+output": {
       "addedWidgets": {},
       "aggData": [],
       "aggError": "",
       "aggOverflow": false,
       "aggSchema": [],
       "aggSeriesLimitReached": false,
       "aggType": "",
       "arguments": {},
       "columnCustomDisplayInfos": {},
       "data": [
        [
         1
        ]
       ],
       "datasetInfos": [],
       "dbfsResultPath": null,
       "isJsonSchema": true,
       "metadata": {
        "dataframeName": "_sqldf",
        "executionCount": 7
       },
       "overflow": false,
       "plotOptions": {
        "customPlotOptions": {},
        "displayType": "table",
        "pivotAggregation": null,
        "pivotColumns": null,
        "xColumns": null,
        "yColumns": null
       },
       "removedWidgets": [],
       "schema": [
        {
         "metadata": "{}",
         "name": "num_affected_rows",
         "type": "\"long\""
        }
       ],
       "type": "table"
      }
     },
     "output_type": "display_data"
    }
   ],
   "source": [
    "%sql\n",
    "delete from silver_Table where Country = 'UK' and Product = 'ProductC'"
   ]
  },
  {
   "cell_type": "code",
   "execution_count": 0,
   "metadata": {
    "application/vnd.databricks.v1+cell": {
     "cellMetadata": {
      "byteLimit": 2048000,
      "implicitDf": true,
      "rowLimit": 10000
     },
     "inputWidgets": {},
     "nuid": "4dcbb902-2edd-4ca1-9dd5-c81b1e8493c7",
     "showTitle": false,
     "title": ""
    }
   },
   "outputs": [
    {
     "output_type": "display_data",
     "data": {
      "text/html": [
       "<style scoped>\n",
       "  .table-result-container {\n",
       "    max-height: 300px;\n",
       "    overflow: auto;\n",
       "  }\n",
       "  table, th, td {\n",
       "    border: 1px solid black;\n",
       "    border-collapse: collapse;\n",
       "  }\n",
       "  th, td {\n",
       "    padding: 5px;\n",
       "  }\n",
       "  th {\n",
       "    text-align: left;\n",
       "  }\n",
       "</style><div class='table-result-container'><table class='table-result'><thead style='background-color: white'><tr><th>Country</th><th>Product</th><th>Stock</th><th>Sales</th></tr></thead><tbody><tr><td>USA</td><td>ProductA</td><td>1200</td><td>200</td></tr><tr><td>Australia</td><td>ProductE</td><td>300</td><td>30</td></tr><tr><td>Canada</td><td>ProductD</td><td>200</td><td>20</td></tr><tr><td>India</td><td>ProductB</td><td>500</td><td>50</td></tr></tbody></table></div>"
      ]
     },
     "metadata": {
      "application/vnd.databricks.v1+output": {
       "addedWidgets": {},
       "aggData": [],
       "aggError": "",
       "aggOverflow": false,
       "aggSchema": [],
       "aggSeriesLimitReached": false,
       "aggType": "",
       "arguments": {},
       "columnCustomDisplayInfos": {},
       "data": [
        [
         "USA",
         "ProductA",
         1200,
         200
        ],
        [
         "Australia",
         "ProductE",
         300,
         30
        ],
        [
         "Canada",
         "ProductD",
         200,
         20
        ],
        [
         "India",
         "ProductB",
         500,
         50
        ]
       ],
       "datasetInfos": [],
       "dbfsResultPath": null,
       "isJsonSchema": true,
       "metadata": {
        "dataframeName": "_sqldf",
        "executionCount": 8
       },
       "overflow": false,
       "plotOptions": {
        "customPlotOptions": {},
        "displayType": "table",
        "pivotAggregation": null,
        "pivotColumns": null,
        "xColumns": null,
        "yColumns": null
       },
       "removedWidgets": [],
       "schema": [
        {
         "metadata": "{}",
         "name": "Country",
         "type": "\"string\""
        },
        {
         "metadata": "{}",
         "name": "Product",
         "type": "\"string\""
        },
        {
         "metadata": "{}",
         "name": "Stock",
         "type": "\"long\""
        },
        {
         "metadata": "{}",
         "name": "Sales",
         "type": "\"long\""
        }
       ],
       "type": "table"
      }
     },
     "output_type": "display_data"
    }
   ],
   "source": [
    "%sql\n",
    "select * from silver_Table"
   ]
  },
  {
   "cell_type": "code",
   "execution_count": 0,
   "metadata": {
    "application/vnd.databricks.v1+cell": {
     "cellMetadata": {
      "byteLimit": 2048000,
      "implicitDf": true,
      "rowLimit": 10000
     },
     "inputWidgets": {},
     "nuid": "744240f0-2c8d-4c78-a8c4-4fb6c30fe68f",
     "showTitle": false,
     "title": ""
    }
   },
   "outputs": [
    {
     "output_type": "display_data",
     "data": {
      "text/html": [
       "<style scoped>\n",
       "  .table-result-container {\n",
       "    max-height: 300px;\n",
       "    overflow: auto;\n",
       "  }\n",
       "  table, th, td {\n",
       "    border: 1px solid black;\n",
       "    border-collapse: collapse;\n",
       "  }\n",
       "  th, td {\n",
       "    padding: 5px;\n",
       "  }\n",
       "  th {\n",
       "    text-align: left;\n",
       "  }\n",
       "</style><div class='table-result-container'><table class='table-result'><thead style='background-color: white'><tr><th>version</th><th>timestamp</th><th>userId</th><th>userName</th><th>operation</th><th>operationParameters</th><th>job</th><th>notebook</th><th>clusterId</th><th>readVersion</th><th>isolationLevel</th><th>isBlindAppend</th><th>operationMetrics</th><th>userMetadata</th><th>engineInfo</th></tr></thead><tbody><tr><td>4</td><td>2024-09-26T17:05:16Z</td><td>5199045096932667</td><td>kammaramakrishna12@gmail.com</td><td>DELETE</td><td>Map(predicate -> [\"((Country#3577 = UK) AND (Product#3578 = ProductC))\"])</td><td>null</td><td>List(2851002469361937)</td><td>0926-163150-vm1ikvdx</td><td>3</td><td>WriteSerializable</td><td>false</td><td>Map(numRemovedFiles -> 1, numRemovedBytes -> 1360, numCopiedRows -> 0, numDeletionVectorsAdded -> 0, numDeletionVectorsRemoved -> 0, numAddedChangeFiles -> 1, executionTimeMs -> 3218, numDeletedRows -> 1, scanTimeMs -> 1850, numAddedFiles -> 0, numAddedBytes -> 0, rewriteTimeMs -> 1368)</td><td>null</td><td>Databricks-Runtime/13.3.x-scala2.12</td></tr><tr><td>3</td><td>2024-09-26T17:03:35Z</td><td>5199045096932667</td><td>kammaramakrishna12@gmail.com</td><td>UPDATE</td><td>Map(predicate -> [\"((Country#2894 = USA) AND (Product#2895 = ProductA))\"])</td><td>null</td><td>List(2851002469361937)</td><td>0926-163150-vm1ikvdx</td><td>2</td><td>WriteSerializable</td><td>false</td><td>Map(numRemovedFiles -> 1, numRemovedBytes -> 1367, numCopiedRows -> 0, numDeletionVectorsAdded -> 0, numDeletionVectorsRemoved -> 0, numAddedChangeFiles -> 1, executionTimeMs -> 4579, scanTimeMs -> 2563, numAddedFiles -> 1, numUpdatedRows -> 1, numAddedBytes -> 1584, rewriteTimeMs -> 1980)</td><td>null</td><td>Databricks-Runtime/13.3.x-scala2.12</td></tr><tr><td>2</td><td>2024-09-26T17:02:37Z</td><td>5199045096932667</td><td>kammaramakrishna12@gmail.com</td><td>WRITE</td><td>Map(mode -> Append, statsOnLoad -> false, partitionBy -> [])</td><td>null</td><td>List(2851002469361937)</td><td>0926-163150-vm1ikvdx</td><td>1</td><td>WriteSerializable</td><td>true</td><td>Map(numFiles -> 1, numOutputRows -> 1, numOutputBytes -> 1408)</td><td>null</td><td>Databricks-Runtime/13.3.x-scala2.12</td></tr><tr><td>1</td><td>2024-09-26T17:02:16Z</td><td>5199045096932667</td><td>kammaramakrishna12@gmail.com</td><td>SET TBLPROPERTIES</td><td>Map(properties -> {\"delta.enableChangeDataFeed\":\"true\"})</td><td>null</td><td>List(2851002469361937)</td><td>0926-163150-vm1ikvdx</td><td>0</td><td>WriteSerializable</td><td>true</td><td>Map()</td><td>null</td><td>Databricks-Runtime/13.3.x-scala2.12</td></tr><tr><td>0</td><td>2024-09-26T16:50:39Z</td><td>5199045096932667</td><td>kammaramakrishna12@gmail.com</td><td>CREATE OR REPLACE TABLE AS SELECT</td><td>Map(partitionBy -> [], description -> null, isManaged -> true, properties -> {}, statsOnLoad -> false)</td><td>null</td><td>List(2851002469361937)</td><td>0926-163150-vm1ikvdx</td><td>null</td><td>WriteSerializable</td><td>false</td><td>Map(numFiles -> 4, numOutputRows -> 4, numOutputBytes -> 5496)</td><td>null</td><td>Databricks-Runtime/13.3.x-scala2.12</td></tr></tbody></table></div>"
      ]
     },
     "metadata": {
      "application/vnd.databricks.v1+output": {
       "addedWidgets": {},
       "aggData": [],
       "aggError": "",
       "aggOverflow": false,
       "aggSchema": [],
       "aggSeriesLimitReached": false,
       "aggType": "",
       "arguments": {},
       "columnCustomDisplayInfos": {},
       "data": [
        [
         4,
         "2024-09-26T17:05:16Z",
         "5199045096932667",
         "kammaramakrishna12@gmail.com",
         "DELETE",
         {
          "predicate": "[\"((Country#3577 = UK) AND (Product#3578 = ProductC))\"]"
         },
         null,
         [
          "2851002469361937"
         ],
         "0926-163150-vm1ikvdx",
         3,
         "WriteSerializable",
         false,
         {
          "executionTimeMs": "3218",
          "numAddedBytes": "0",
          "numAddedChangeFiles": "1",
          "numAddedFiles": "0",
          "numCopiedRows": "0",
          "numDeletedRows": "1",
          "numDeletionVectorsAdded": "0",
          "numDeletionVectorsRemoved": "0",
          "numRemovedBytes": "1360",
          "numRemovedFiles": "1",
          "rewriteTimeMs": "1368",
          "scanTimeMs": "1850"
         },
         null,
         "Databricks-Runtime/13.3.x-scala2.12"
        ],
        [
         3,
         "2024-09-26T17:03:35Z",
         "5199045096932667",
         "kammaramakrishna12@gmail.com",
         "UPDATE",
         {
          "predicate": "[\"((Country#2894 = USA) AND (Product#2895 = ProductA))\"]"
         },
         null,
         [
          "2851002469361937"
         ],
         "0926-163150-vm1ikvdx",
         2,
         "WriteSerializable",
         false,
         {
          "executionTimeMs": "4579",
          "numAddedBytes": "1584",
          "numAddedChangeFiles": "1",
          "numAddedFiles": "1",
          "numCopiedRows": "0",
          "numDeletionVectorsAdded": "0",
          "numDeletionVectorsRemoved": "0",
          "numRemovedBytes": "1367",
          "numRemovedFiles": "1",
          "numUpdatedRows": "1",
          "rewriteTimeMs": "1980",
          "scanTimeMs": "2563"
         },
         null,
         "Databricks-Runtime/13.3.x-scala2.12"
        ],
        [
         2,
         "2024-09-26T17:02:37Z",
         "5199045096932667",
         "kammaramakrishna12@gmail.com",
         "WRITE",
         {
          "mode": "Append",
          "partitionBy": "[]",
          "statsOnLoad": "false"
         },
         null,
         [
          "2851002469361937"
         ],
         "0926-163150-vm1ikvdx",
         1,
         "WriteSerializable",
         true,
         {
          "numFiles": "1",
          "numOutputBytes": "1408",
          "numOutputRows": "1"
         },
         null,
         "Databricks-Runtime/13.3.x-scala2.12"
        ],
        [
         1,
         "2024-09-26T17:02:16Z",
         "5199045096932667",
         "kammaramakrishna12@gmail.com",
         "SET TBLPROPERTIES",
         {
          "properties": "{\"delta.enableChangeDataFeed\":\"true\"}"
         },
         null,
         [
          "2851002469361937"
         ],
         "0926-163150-vm1ikvdx",
         0,
         "WriteSerializable",
         true,
         {},
         null,
         "Databricks-Runtime/13.3.x-scala2.12"
        ],
        [
         0,
         "2024-09-26T16:50:39Z",
         "5199045096932667",
         "kammaramakrishna12@gmail.com",
         "CREATE OR REPLACE TABLE AS SELECT",
         {
          "description": null,
          "isManaged": "true",
          "partitionBy": "[]",
          "properties": "{}",
          "statsOnLoad": "false"
         },
         null,
         [
          "2851002469361937"
         ],
         "0926-163150-vm1ikvdx",
         null,
         "WriteSerializable",
         false,
         {
          "numFiles": "4",
          "numOutputBytes": "5496",
          "numOutputRows": "4"
         },
         null,
         "Databricks-Runtime/13.3.x-scala2.12"
        ]
       ],
       "datasetInfos": [],
       "dbfsResultPath": null,
       "isJsonSchema": true,
       "metadata": {
        "dataframeName": "_sqldf",
        "executionCount": 9
       },
       "overflow": false,
       "plotOptions": {
        "customPlotOptions": {},
        "displayType": "table",
        "pivotAggregation": null,
        "pivotColumns": null,
        "xColumns": null,
        "yColumns": null
       },
       "removedWidgets": [],
       "schema": [
        {
         "metadata": "{}",
         "name": "version",
         "type": "\"long\""
        },
        {
         "metadata": "{}",
         "name": "timestamp",
         "type": "\"timestamp\""
        },
        {
         "metadata": "{}",
         "name": "userId",
         "type": "\"string\""
        },
        {
         "metadata": "{}",
         "name": "userName",
         "type": "\"string\""
        },
        {
         "metadata": "{}",
         "name": "operation",
         "type": "\"string\""
        },
        {
         "metadata": "{}",
         "name": "operationParameters",
         "type": "{\"type\":\"map\",\"keyType\":\"string\",\"valueType\":\"string\",\"valueContainsNull\":true}"
        },
        {
         "metadata": "{}",
         "name": "job",
         "type": "{\"type\":\"struct\",\"fields\":[{\"name\":\"jobId\",\"type\":\"string\",\"nullable\":true,\"metadata\":{}},{\"name\":\"jobName\",\"type\":\"string\",\"nullable\":true,\"metadata\":{}},{\"name\":\"jobRunId\",\"type\":\"string\",\"nullable\":true,\"metadata\":{}},{\"name\":\"runId\",\"type\":\"string\",\"nullable\":true,\"metadata\":{}},{\"name\":\"jobOwnerId\",\"type\":\"string\",\"nullable\":true,\"metadata\":{}},{\"name\":\"triggerType\",\"type\":\"string\",\"nullable\":true,\"metadata\":{}}]}"
        },
        {
         "metadata": "{}",
         "name": "notebook",
         "type": "{\"type\":\"struct\",\"fields\":[{\"name\":\"notebookId\",\"type\":\"string\",\"nullable\":true,\"metadata\":{}}]}"
        },
        {
         "metadata": "{}",
         "name": "clusterId",
         "type": "\"string\""
        },
        {
         "metadata": "{}",
         "name": "readVersion",
         "type": "\"long\""
        },
        {
         "metadata": "{}",
         "name": "isolationLevel",
         "type": "\"string\""
        },
        {
         "metadata": "{}",
         "name": "isBlindAppend",
         "type": "\"boolean\""
        },
        {
         "metadata": "{}",
         "name": "operationMetrics",
         "type": "{\"type\":\"map\",\"keyType\":\"string\",\"valueType\":\"string\",\"valueContainsNull\":true}"
        },
        {
         "metadata": "{}",
         "name": "userMetadata",
         "type": "\"string\""
        },
        {
         "metadata": "{}",
         "name": "engineInfo",
         "type": "\"string\""
        }
       ],
       "type": "table"
      }
     },
     "output_type": "display_data"
    }
   ],
   "source": [
    "%sql\n",
    "describe history silver_table"
   ]
  },
  {
   "cell_type": "code",
   "execution_count": 0,
   "metadata": {
    "application/vnd.databricks.v1+cell": {
     "cellMetadata": {
      "byteLimit": 2048000,
      "implicitDf": true,
      "rowLimit": 10000
     },
     "inputWidgets": {},
     "nuid": "1f5ad912-9fd9-4f64-b7f9-239987e5e38b",
     "showTitle": false,
     "title": ""
    }
   },
   "outputs": [
    {
     "output_type": "display_data",
     "data": {
      "text/html": [
       "<style scoped>\n",
       "  .table-result-container {\n",
       "    max-height: 300px;\n",
       "    overflow: auto;\n",
       "  }\n",
       "  table, th, td {\n",
       "    border: 1px solid black;\n",
       "    border-collapse: collapse;\n",
       "  }\n",
       "  th, td {\n",
       "    padding: 5px;\n",
       "  }\n",
       "  th {\n",
       "    text-align: left;\n",
       "  }\n",
       "</style><div class='table-result-container'><table class='table-result'><thead style='background-color: white'><tr><th>Country</th><th>Product</th><th>Stock</th><th>Sales</th><th>_change_type</th><th>_commit_version</th><th>_commit_timestamp</th></tr></thead><tbody><tr><td>Australia</td><td>ProductE</td><td>300</td><td>30</td><td>insert</td><td>2</td><td>2024-09-26T17:02:37Z</td></tr><tr><td>USA</td><td>ProductA</td><td>1000</td><td>200</td><td>update_preimage</td><td>3</td><td>2024-09-26T17:03:35Z</td></tr><tr><td>USA</td><td>ProductA</td><td>1200</td><td>200</td><td>update_postimage</td><td>3</td><td>2024-09-26T17:03:35Z</td></tr><tr><td>UK</td><td>ProductC</td><td>700</td><td>100</td><td>delete</td><td>4</td><td>2024-09-26T17:05:16Z</td></tr></tbody></table></div>"
      ]
     },
     "metadata": {
      "application/vnd.databricks.v1+output": {
       "addedWidgets": {},
       "aggData": [],
       "aggError": "",
       "aggOverflow": false,
       "aggSchema": [],
       "aggSeriesLimitReached": false,
       "aggType": "",
       "arguments": {},
       "columnCustomDisplayInfos": {},
       "data": [
        [
         "Australia",
         "ProductE",
         300,
         30,
         "insert",
         2,
         "2024-09-26T17:02:37Z"
        ],
        [
         "USA",
         "ProductA",
         1000,
         200,
         "update_preimage",
         3,
         "2024-09-26T17:03:35Z"
        ],
        [
         "USA",
         "ProductA",
         1200,
         200,
         "update_postimage",
         3,
         "2024-09-26T17:03:35Z"
        ],
        [
         "UK",
         "ProductC",
         700,
         100,
         "delete",
         4,
         "2024-09-26T17:05:16Z"
        ]
       ],
       "datasetInfos": [],
       "dbfsResultPath": null,
       "isJsonSchema": true,
       "metadata": {
        "dataframeName": "_sqldf",
        "executionCount": 10
       },
       "overflow": false,
       "plotOptions": {
        "customPlotOptions": {},
        "displayType": "table",
        "pivotAggregation": null,
        "pivotColumns": null,
        "xColumns": null,
        "yColumns": null
       },
       "removedWidgets": [],
       "schema": [
        {
         "metadata": "{}",
         "name": "Country",
         "type": "\"string\""
        },
        {
         "metadata": "{}",
         "name": "Product",
         "type": "\"string\""
        },
        {
         "metadata": "{}",
         "name": "Stock",
         "type": "\"long\""
        },
        {
         "metadata": "{}",
         "name": "Sales",
         "type": "\"long\""
        },
        {
         "metadata": "{}",
         "name": "_change_type",
         "type": "\"string\""
        },
        {
         "metadata": "{}",
         "name": "_commit_version",
         "type": "\"long\""
        },
        {
         "metadata": "{}",
         "name": "_commit_timestamp",
         "type": "\"timestamp\""
        }
       ],
       "type": "table"
      }
     },
     "output_type": "display_data"
    }
   ],
   "source": [
    "%sql\n",
    "select *,_commit_timestamp from table_changes('silver_Table', 1) order by _commit_timestamp"
   ]
  },
  {
   "cell_type": "code",
   "execution_count": 0,
   "metadata": {
    "application/vnd.databricks.v1+cell": {
     "cellMetadata": {
      "byteLimit": 2048000,
      "rowLimit": 10000
     },
     "inputWidgets": {},
     "nuid": "2551d57a-7b28-4bc1-81c9-8854c744cff3",
     "showTitle": false,
     "title": ""
    }
   },
   "outputs": [
    {
     "output_type": "display_data",
     "data": {
      "text/html": [
       "<style scoped>\n",
       "  .table-result-container {\n",
       "    max-height: 300px;\n",
       "    overflow: auto;\n",
       "  }\n",
       "  table, th, td {\n",
       "    border: 1px solid black;\n",
       "    border-collapse: collapse;\n",
       "  }\n",
       "  th, td {\n",
       "    padding: 5px;\n",
       "  }\n",
       "  th {\n",
       "    text-align: left;\n",
       "  }\n",
       "</style><div class='table-result-container'><table class='table-result'><thead style='background-color: white'><tr><th>Country</th><th>Product</th><th>Stock</th><th>Sales</th><th>_change_type</th><th>_commit_version</th><th>_commit_timestamp</th></tr></thead><tbody><tr><td>USA</td><td>ProductA</td><td>1000</td><td>200</td><td>update_preimage</td><td>3</td><td>2024-09-26T17:03:35Z</td></tr><tr><td>USA</td><td>ProductA</td><td>1200</td><td>200</td><td>update_postimage</td><td>3</td><td>2024-09-26T17:03:35Z</td></tr><tr><td>UK</td><td>ProductC</td><td>700</td><td>100</td><td>delete</td><td>4</td><td>2024-09-26T17:05:16Z</td></tr><tr><td>Australia</td><td>ProductE</td><td>300</td><td>30</td><td>insert</td><td>2</td><td>2024-09-26T17:02:37Z</td></tr></tbody></table></div>"
      ]
     },
     "metadata": {
      "application/vnd.databricks.v1+output": {
       "addedWidgets": {},
       "aggData": [],
       "aggError": "",
       "aggOverflow": false,
       "aggSchema": [],
       "aggSeriesLimitReached": false,
       "aggType": "",
       "arguments": {},
       "columnCustomDisplayInfos": {},
       "data": [
        [
         "USA",
         "ProductA",
         1000,
         200,
         "update_preimage",
         3,
         "2024-09-26T17:03:35Z"
        ],
        [
         "USA",
         "ProductA",
         1200,
         200,
         "update_postimage",
         3,
         "2024-09-26T17:03:35Z"
        ],
        [
         "UK",
         "ProductC",
         700,
         100,
         "delete",
         4,
         "2024-09-26T17:05:16Z"
        ],
        [
         "Australia",
         "ProductE",
         300,
         30,
         "insert",
         2,
         "2024-09-26T17:02:37Z"
        ]
       ],
       "datasetInfos": [],
       "dbfsResultPath": null,
       "isJsonSchema": true,
       "metadata": {},
       "overflow": false,
       "plotOptions": {
        "customPlotOptions": {},
        "displayType": "table",
        "pivotAggregation": null,
        "pivotColumns": null,
        "xColumns": null,
        "yColumns": null
       },
       "removedWidgets": [],
       "schema": [
        {
         "metadata": "{}",
         "name": "Country",
         "type": "\"string\""
        },
        {
         "metadata": "{}",
         "name": "Product",
         "type": "\"string\""
        },
        {
         "metadata": "{}",
         "name": "Stock",
         "type": "\"long\""
        },
        {
         "metadata": "{}",
         "name": "Sales",
         "type": "\"long\""
        },
        {
         "metadata": "{}",
         "name": "_change_type",
         "type": "\"string\""
        },
        {
         "metadata": "{}",
         "name": "_commit_version",
         "type": "\"long\""
        },
        {
         "metadata": "{}",
         "name": "_commit_timestamp",
         "type": "\"timestamp\""
        }
       ],
       "type": "table"
      }
     },
     "output_type": "display_data"
    }
   ],
   "source": [
    "changes_df = spark.read.format(\"delta\").option(\"readChangeData\", True).option(\"startingVersion\", 2).table('silver_Table')\n",
    "display(changes_df)"
   ]
  },
  {
   "cell_type": "markdown",
   "metadata": {
    "application/vnd.databricks.v1+cell": {
     "cellMetadata": {},
     "inputWidgets": {},
     "nuid": "5c98ef32-daf4-45c8-a0b3-1aa194906f17",
     "showTitle": false,
     "title": ""
    }
   },
   "source": [
    "Propagate changes from silver to gold table"
   ]
  },
  {
   "cell_type": "code",
   "execution_count": 0,
   "metadata": {
    "application/vnd.databricks.v1+cell": {
     "cellMetadata": {
      "byteLimit": 2048000,
      "implicitDf": true,
      "rowLimit": 10000
     },
     "inputWidgets": {},
     "nuid": "46726f44-8c52-4d9d-977f-3e6de04a5dfa",
     "showTitle": false,
     "title": ""
    }
   },
   "outputs": [
    {
     "output_type": "display_data",
     "data": {
      "text/html": [
       "<style scoped>\n",
       "  .table-result-container {\n",
       "    max-height: 300px;\n",
       "    overflow: auto;\n",
       "  }\n",
       "  table, th, td {\n",
       "    border: 1px solid black;\n",
       "    border-collapse: collapse;\n",
       "  }\n",
       "  th, td {\n",
       "    padding: 5px;\n",
       "  }\n",
       "  th {\n",
       "    text-align: left;\n",
       "  }\n",
       "</style><div class='table-result-container'><table class='table-result'><thead style='background-color: white'><tr></tr></thead><tbody></tbody></table></div>"
      ]
     },
     "metadata": {
      "application/vnd.databricks.v1+output": {
       "addedWidgets": {},
       "aggData": [],
       "aggError": "",
       "aggOverflow": false,
       "aggSchema": [],
       "aggSeriesLimitReached": false,
       "aggType": "",
       "arguments": {},
       "columnCustomDisplayInfos": {},
       "data": [],
       "datasetInfos": [],
       "dbfsResultPath": null,
       "isJsonSchema": true,
       "metadata": {
        "dataframeName": null
       },
       "overflow": false,
       "plotOptions": {
        "customPlotOptions": {},
        "displayType": "table",
        "pivotAggregation": null,
        "pivotColumns": null,
        "xColumns": null,
        "yColumns": null
       },
       "removedWidgets": [],
       "schema": [],
       "type": "table"
      }
     },
     "output_type": "display_data"
    }
   ],
   "source": [
    "%sql\n",
    "create or replace temporary view silver_Table_latest_version as\n",
    "select *\n",
    "\tfrom\n",
    "\t      (select *, rank() over(partition by Country, Product order by _commit_version desc)as rnk from table_changes('silver_Table', 2,5) where _change_type != 'update_preimage')\n",
    "where rnk = 1"
   ]
  },
  {
   "cell_type": "code",
   "execution_count": 0,
   "metadata": {
    "application/vnd.databricks.v1+cell": {
     "cellMetadata": {
      "byteLimit": 2048000,
      "implicitDf": true,
      "rowLimit": 10000
     },
     "inputWidgets": {},
     "nuid": "acf55a2e-3f22-4416-8fff-83fb2d9dc5f6",
     "showTitle": false,
     "title": ""
    }
   },
   "outputs": [
    {
     "output_type": "display_data",
     "data": {
      "text/html": [
       "<style scoped>\n",
       "  .table-result-container {\n",
       "    max-height: 300px;\n",
       "    overflow: auto;\n",
       "  }\n",
       "  table, th, td {\n",
       "    border: 1px solid black;\n",
       "    border-collapse: collapse;\n",
       "  }\n",
       "  th, td {\n",
       "    padding: 5px;\n",
       "  }\n",
       "  th {\n",
       "    text-align: left;\n",
       "  }\n",
       "</style><div class='table-result-container'><table class='table-result'><thead style='background-color: white'><tr><th>Country</th><th>Product</th><th>Stock</th><th>Sales</th><th>_change_type</th><th>_commit_version</th><th>_commit_timestamp</th><th>rnk</th></tr></thead><tbody><tr><td>Australia</td><td>ProductE</td><td>300</td><td>30</td><td>insert</td><td>2</td><td>2024-09-26T17:02:37Z</td><td>1</td></tr><tr><td>UK</td><td>ProductC</td><td>700</td><td>100</td><td>delete</td><td>4</td><td>2024-09-26T17:05:16Z</td><td>1</td></tr><tr><td>USA</td><td>ProductA</td><td>1200</td><td>200</td><td>update_postimage</td><td>3</td><td>2024-09-26T17:03:35Z</td><td>1</td></tr></tbody></table></div>"
      ]
     },
     "metadata": {
      "application/vnd.databricks.v1+output": {
       "addedWidgets": {},
       "aggData": [],
       "aggError": "",
       "aggOverflow": false,
       "aggSchema": [],
       "aggSeriesLimitReached": false,
       "aggType": "",
       "arguments": {},
       "columnCustomDisplayInfos": {},
       "data": [
        [
         "Australia",
         "ProductE",
         300,
         30,
         "insert",
         2,
         "2024-09-26T17:02:37Z",
         1
        ],
        [
         "UK",
         "ProductC",
         700,
         100,
         "delete",
         4,
         "2024-09-26T17:05:16Z",
         1
        ],
        [
         "USA",
         "ProductA",
         1200,
         200,
         "update_postimage",
         3,
         "2024-09-26T17:03:35Z",
         1
        ]
       ],
       "datasetInfos": [],
       "dbfsResultPath": null,
       "isJsonSchema": true,
       "metadata": {
        "dataframeName": "_sqldf",
        "executionCount": 12
       },
       "overflow": false,
       "plotOptions": {
        "customPlotOptions": {},
        "displayType": "table",
        "pivotAggregation": null,
        "pivotColumns": null,
        "xColumns": null,
        "yColumns": null
       },
       "removedWidgets": [],
       "schema": [
        {
         "metadata": "{}",
         "name": "Country",
         "type": "\"string\""
        },
        {
         "metadata": "{}",
         "name": "Product",
         "type": "\"string\""
        },
        {
         "metadata": "{}",
         "name": "Stock",
         "type": "\"long\""
        },
        {
         "metadata": "{}",
         "name": "Sales",
         "type": "\"long\""
        },
        {
         "metadata": "{}",
         "name": "_change_type",
         "type": "\"string\""
        },
        {
         "metadata": "{}",
         "name": "_commit_version",
         "type": "\"long\""
        },
        {
         "metadata": "{}",
         "name": "_commit_timestamp",
         "type": "\"timestamp\""
        },
        {
         "metadata": "{}",
         "name": "rnk",
         "type": "\"integer\""
        }
       ],
       "type": "table"
      }
     },
     "output_type": "display_data"
    }
   ],
   "source": [
    "%sql\n",
    "select * from silver_Table_latest_version"
   ]
  },
  {
   "cell_type": "markdown",
   "metadata": {
    "application/vnd.databricks.v1+cell": {
     "cellMetadata": {},
     "inputWidgets": {},
     "nuid": "007e26f2-98fb-4c39-b414-210608750908",
     "showTitle": false,
     "title": ""
    }
   },
   "source": [
    "Merge Changes into Gold Table"
   ]
  },
  {
   "cell_type": "code",
   "execution_count": 0,
   "metadata": {
    "application/vnd.databricks.v1+cell": {
     "cellMetadata": {
      "byteLimit": 2048000,
      "implicitDf": true,
      "rowLimit": 10000
     },
     "inputWidgets": {},
     "nuid": "434bc4cf-edbd-49f0-8964-9ab0b02adee0",
     "showTitle": false,
     "title": ""
    }
   },
   "outputs": [
    {
     "output_type": "display_data",
     "data": {
      "text/html": [
       "<style scoped>\n",
       "  .table-result-container {\n",
       "    max-height: 300px;\n",
       "    overflow: auto;\n",
       "  }\n",
       "  table, th, td {\n",
       "    border: 1px solid black;\n",
       "    border-collapse: collapse;\n",
       "  }\n",
       "  th, td {\n",
       "    padding: 5px;\n",
       "  }\n",
       "  th {\n",
       "    text-align: left;\n",
       "  }\n",
       "</style><div class='table-result-container'><table class='table-result'><thead style='background-color: white'><tr><th>num_affected_rows</th><th>num_updated_rows</th><th>num_deleted_rows</th><th>num_inserted_rows</th></tr></thead><tbody><tr><td>3</td><td>1</td><td>1</td><td>1</td></tr></tbody></table></div>"
      ]
     },
     "metadata": {
      "application/vnd.databricks.v1+output": {
       "addedWidgets": {},
       "aggData": [],
       "aggError": "",
       "aggOverflow": false,
       "aggSchema": [],
       "aggSeriesLimitReached": false,
       "aggType": "",
       "arguments": {},
       "columnCustomDisplayInfos": {},
       "data": [
        [
         3,
         1,
         1,
         1
        ]
       ],
       "datasetInfos": [],
       "dbfsResultPath": null,
       "isJsonSchema": true,
       "metadata": {
        "dataframeName": "_sqldf",
        "executionCount": 13
       },
       "overflow": false,
       "plotOptions": {
        "customPlotOptions": {},
        "displayType": "table",
        "pivotAggregation": null,
        "pivotColumns": null,
        "xColumns": null,
        "yColumns": null
       },
       "removedWidgets": [],
       "schema": [
        {
         "metadata": "{}",
         "name": "num_affected_rows",
         "type": "\"long\""
        },
        {
         "metadata": "{}",
         "name": "num_updated_rows",
         "type": "\"long\""
        },
        {
         "metadata": "{}",
         "name": "num_deleted_rows",
         "type": "\"long\""
        },
        {
         "metadata": "{}",
         "name": "num_inserted_rows",
         "type": "\"long\""
        }
       ],
       "type": "table"
      }
     },
     "output_type": "display_data"
    }
   ],
   "source": [
    "%sql\n",
    "MERGE INTO gold_Table AS t USING silver_Table_latest_version AS s\n",
    "ON s.Country = t.Country AND s.Product = t.Product \n",
    "WHEN MATCHED AND s._change_type = 'update_postimage' THEN\n",
    "    UPDATE SET t.SaleRate = s.Sales/s.Stock\n",
    "WHEN MATCHED AND s._change_type = 'delete' THEN\n",
    "    DELETE\n",
    "WHEN NOT MATCHED THEN\n",
    "    INSERT (Country, Product, SaleRate) VALUES (s.Country, s.Product, s.Sales / s.Stock);"
   ]
  },
  {
   "cell_type": "code",
   "execution_count": 0,
   "metadata": {
    "application/vnd.databricks.v1+cell": {
     "cellMetadata": {
      "byteLimit": 2048000,
      "implicitDf": true,
      "rowLimit": 10000
     },
     "inputWidgets": {},
     "nuid": "5dade6fd-0b51-4d8a-8722-56ea26f23532",
     "showTitle": false,
     "title": ""
    }
   },
   "outputs": [
    {
     "output_type": "display_data",
     "data": {
      "text/html": [
       "<style scoped>\n",
       "  .table-result-container {\n",
       "    max-height: 300px;\n",
       "    overflow: auto;\n",
       "  }\n",
       "  table, th, td {\n",
       "    border: 1px solid black;\n",
       "    border-collapse: collapse;\n",
       "  }\n",
       "  th, td {\n",
       "    padding: 5px;\n",
       "  }\n",
       "  th {\n",
       "    text-align: left;\n",
       "  }\n",
       "</style><div class='table-result-container'><table class='table-result'><thead style='background-color: white'><tr><th>Country</th><th>Product</th><th>SaleRate</th></tr></thead><tbody><tr><td>Canada</td><td>ProductD</td><td>0.1</td></tr><tr><td>Australia</td><td>ProductE</td><td>0.1</td></tr><tr><td>USA</td><td>ProductA</td><td>0.16666666666666666</td></tr><tr><td>India</td><td>ProductB</td><td>0.1</td></tr></tbody></table></div>"
      ]
     },
     "metadata": {
      "application/vnd.databricks.v1+output": {
       "addedWidgets": {},
       "aggData": [],
       "aggError": "",
       "aggOverflow": false,
       "aggSchema": [],
       "aggSeriesLimitReached": false,
       "aggType": "",
       "arguments": {},
       "columnCustomDisplayInfos": {},
       "data": [
        [
         "Canada",
         "ProductD",
         0.1
        ],
        [
         "Australia",
         "ProductE",
         0.1
        ],
        [
         "USA",
         "ProductA",
         0.16666666666666666
        ],
        [
         "India",
         "ProductB",
         0.1
        ]
       ],
       "datasetInfos": [],
       "dbfsResultPath": null,
       "isJsonSchema": true,
       "metadata": {
        "dataframeName": "_sqldf",
        "executionCount": 14
       },
       "overflow": false,
       "plotOptions": {
        "customPlotOptions": {},
        "displayType": "table",
        "pivotAggregation": null,
        "pivotColumns": null,
        "xColumns": null,
        "yColumns": null
       },
       "removedWidgets": [],
       "schema": [
        {
         "metadata": "{}",
         "name": "Country",
         "type": "\"string\""
        },
        {
         "metadata": "{}",
         "name": "Product",
         "type": "\"string\""
        },
        {
         "metadata": "{}",
         "name": "SaleRate",
         "type": "\"double\""
        }
       ],
       "type": "table"
      }
     },
     "output_type": "display_data"
    }
   ],
   "source": [
    "%sql\n",
    "select * from gold_Table"
   ]
  },
  {
   "cell_type": "code",
   "execution_count": 0,
   "metadata": {
    "application/vnd.databricks.v1+cell": {
     "cellMetadata": {},
     "inputWidgets": {},
     "nuid": "9f11fb5b-048c-4f34-8808-fa1adf0ab987",
     "showTitle": false,
     "title": ""
    }
   },
   "outputs": [],
   "source": []
  },
  {
   "cell_type": "markdown",
   "metadata": {
    "application/vnd.databricks.v1+cell": {
     "cellMetadata": {},
     "inputWidgets": {},
     "nuid": "80beafc0-9571-4fe2-9dce-1d5380cc06f8",
     "showTitle": false,
     "title": ""
    }
   },
   "source": [
    "Secret Scope"
   ]
  },
  {
   "cell_type": "code",
   "execution_count": 0,
   "metadata": {
    "application/vnd.databricks.v1+cell": {
     "cellMetadata": {},
     "inputWidgets": {},
     "nuid": "9084ac16-4d7f-4130-b029-cb09efc25d1a",
     "showTitle": false,
     "title": ""
    }
   },
   "outputs": [],
   "source": [
    "secret_name = dbutils.secrets.get(scope = \"ramakrishna\", key = \"test\")"
   ]
  },
  {
   "cell_type": "code",
   "execution_count": 0,
   "metadata": {
    "application/vnd.databricks.v1+cell": {
     "cellMetadata": {},
     "inputWidgets": {},
     "nuid": "064a2bf8-0395-4cbb-a3e7-d315f7395eb7",
     "showTitle": false,
     "title": ""
    }
   },
   "outputs": [],
   "source": [
    "print(secret_name)"
   ]
  },
  {
   "cell_type": "code",
   "execution_count": 0,
   "metadata": {
    "application/vnd.databricks.v1+cell": {
     "cellMetadata": {},
     "inputWidgets": {},
     "nuid": "e4085736-7aa4-4e94-8b63-f9b307646508",
     "showTitle": false,
     "title": ""
    }
   },
   "outputs": [],
   "source": [
    "if secret_name == \"ramakrishna1\":\n",
    "    print(\"Success\")\n",
    "else:\n",
    "    print(\"Failure\")"
   ]
  }
 ],
 "metadata": {
  "application/vnd.databricks.v1+notebook": {
   "dashboards": [],
   "environmentMetadata": null,
   "language": "python",
   "notebookMetadata": {
    "mostRecentlyExecutedCommandWithImplicitDF": {
     "commandId": 2851002469361961,
     "dataframes": [
      "_sqldf"
     ]
    },
    "pythonIndentUnit": 4
   },
   "notebookName": "Change Data Capture (CDC) and Secret Scope",
   "widgets": {}
  }
 },
 "nbformat": 4,
 "nbformat_minor": 0
}
